{
 "cells": [
  {
   "cell_type": "code",
   "execution_count": 1,
   "metadata": {},
   "outputs": [],
   "source": [
    "import pandas as pd\n",
    "from pydantic import BaseModel, ValidationError, PositiveFloat, PositiveInt, Field, constr, StrictInt\n"
   ]
  },
  {
   "cell_type": "code",
   "execution_count": 2,
   "metadata": {},
   "outputs": [
    {
     "output_type": "execute_result",
     "data": {
      "text/plain": "   MichNr                Satz  Jahrgang  Gebiet  Entwertung  Anzahl  Preis\n0      -3  Schwarzer Aufdruck      1948  Berlin  postfrisch     3.5   4.00\n1       1  Schwarzer Aufdruck      1948               falz3     3.0   4.33\n2       1  Schwarzer Aufdruck      1948  Berlin        falz     3.7   4.60",
      "text/html": "<div>\n<style scoped>\n    .dataframe tbody tr th:only-of-type {\n        vertical-align: middle;\n    }\n\n    .dataframe tbody tr th {\n        vertical-align: top;\n    }\n\n    .dataframe thead th {\n        text-align: right;\n    }\n</style>\n<table border=\"1\" class=\"dataframe\">\n  <thead>\n    <tr style=\"text-align: right;\">\n      <th></th>\n      <th>MichNr</th>\n      <th>Satz</th>\n      <th>Jahrgang</th>\n      <th>Gebiet</th>\n      <th>Entwertung</th>\n      <th>Anzahl</th>\n      <th>Preis</th>\n    </tr>\n  </thead>\n  <tbody>\n    <tr>\n      <th>0</th>\n      <td>-3</td>\n      <td>Schwarzer Aufdruck</td>\n      <td>1948</td>\n      <td>Berlin</td>\n      <td>postfrisch</td>\n      <td>3.5</td>\n      <td>4.00</td>\n    </tr>\n    <tr>\n      <th>1</th>\n      <td>1</td>\n      <td>Schwarzer Aufdruck</td>\n      <td>1948</td>\n      <td></td>\n      <td>falz3</td>\n      <td>3.0</td>\n      <td>4.33</td>\n    </tr>\n    <tr>\n      <th>2</th>\n      <td>1</td>\n      <td>Schwarzer Aufdruck</td>\n      <td>1948</td>\n      <td>Berlin</td>\n      <td>falz</td>\n      <td>3.7</td>\n      <td>4.60</td>\n    </tr>\n  </tbody>\n</table>\n</div>"
     },
     "metadata": {},
     "execution_count": 2
    }
   ],
   "source": [
    "dta = pd.read_excel(r'D:\\Programming\\html\\Bilder\\test.xlsx')\n",
    "dta.fillna(\"\", inplace=True)\n",
    "dta\n",
    "###"
   ]
  },
  {
   "cell_type": "code",
   "execution_count": 3,
   "metadata": {},
   "outputs": [],
   "source": [
    "class Marke(BaseModel):\n",
    "    MichNr : PositiveInt\n",
    "    Satz : str\n",
    "    Jahrgang : PositiveInt\n",
    "    Gebiet : str = Field(min_length=1)\n",
    "    Entwertung : str = Field(..., regex='^postfrisch|falz$')\n",
    "    Anzahl : StrictInt\n",
    "    Preis : PositiveFloat \n"
   ]
  },
  {
   "cell_type": "code",
   "execution_count": 4,
   "metadata": {},
   "outputs": [],
   "source": [
    "checks = list(Marke.__fields__.keys())"
   ]
  },
  {
   "cell_type": "code",
   "execution_count": 5,
   "metadata": {},
   "outputs": [],
   "source": [
    "def CheckMarke(d1):\n",
    "    try:\n",
    "        print('Checked Marke : ', Marke(**d1))\n",
    "    except ValidationError as e:\n",
    "        print(e.errors())"
   ]
  },
  {
   "cell_type": "code",
   "execution_count": 6,
   "metadata": {},
   "outputs": [
    {
     "output_type": "stream",
     "name": "stdout",
     "text": "[{'loc': ('MichNr',), 'msg': 'ensure this value is greater than 0', 'type': 'value_error.number.not_gt', 'ctx': {'limit_value': 0}}, {'loc': ('Anzahl',), 'msg': 'value is not a valid integer', 'type': 'type_error.integer'}]\n[{'loc': ('Gebiet',), 'msg': 'ensure this value has at least 1 characters', 'type': 'value_error.any_str.min_length', 'ctx': {'limit_value': 1}}, {'loc': ('Entwertung',), 'msg': 'string does not match regex \"^postfrisch|falz$\"', 'type': 'value_error.str.regex', 'ctx': {'pattern': '^postfrisch|falz$'}}, {'loc': ('Anzahl',), 'msg': 'value is not a valid integer', 'type': 'type_error.integer'}]\n[{'loc': ('Anzahl',), 'msg': 'value is not a valid integer', 'type': 'type_error.integer'}]\n"
    }
   ],
   "source": [
    "for i in dta.index:\n",
    "    m = dict(zip(checks, dta.iloc[i]))\n",
    "    CheckMarke(d1=m)"
   ]
  },
  {
   "cell_type": "code",
   "execution_count": 29,
   "metadata": {},
   "outputs": [
    {
     "output_type": "execute_result",
     "data": {
      "text/plain": "   MichNr                Satz  Jahrgang  Gebiet  Entwertung  Anzahl  Preis\n0      -3  Schwarzer Aufdruck      1948  Berlin  postfrisch     3.5   4.00\n1       1  Schwarzer Aufdruck      1948               falz3     3.0   4.33\n2       1  Schwarzer Aufdruck      1948  Berlin        falz     3.0   4.60",
      "text/html": "<div>\n<style scoped>\n    .dataframe tbody tr th:only-of-type {\n        vertical-align: middle;\n    }\n\n    .dataframe tbody tr th {\n        vertical-align: top;\n    }\n\n    .dataframe thead th {\n        text-align: right;\n    }\n</style>\n<table border=\"1\" class=\"dataframe\">\n  <thead>\n    <tr style=\"text-align: right;\">\n      <th></th>\n      <th>MichNr</th>\n      <th>Satz</th>\n      <th>Jahrgang</th>\n      <th>Gebiet</th>\n      <th>Entwertung</th>\n      <th>Anzahl</th>\n      <th>Preis</th>\n    </tr>\n  </thead>\n  <tbody>\n    <tr>\n      <th>0</th>\n      <td>-3</td>\n      <td>Schwarzer Aufdruck</td>\n      <td>1948</td>\n      <td>Berlin</td>\n      <td>postfrisch</td>\n      <td>3.5</td>\n      <td>4.00</td>\n    </tr>\n    <tr>\n      <th>1</th>\n      <td>1</td>\n      <td>Schwarzer Aufdruck</td>\n      <td>1948</td>\n      <td></td>\n      <td>falz3</td>\n      <td>3.0</td>\n      <td>4.33</td>\n    </tr>\n    <tr>\n      <th>2</th>\n      <td>1</td>\n      <td>Schwarzer Aufdruck</td>\n      <td>1948</td>\n      <td>Berlin</td>\n      <td>falz</td>\n      <td>3.0</td>\n      <td>4.60</td>\n    </tr>\n  </tbody>\n</table>\n</div>"
     },
     "metadata": {},
     "execution_count": 29
    }
   ],
   "source": [
    "dta"
   ]
  },
  {
   "cell_type": "code",
   "execution_count": null,
   "metadata": {},
   "outputs": [],
   "source": []
  }
 ],
 "metadata": {
  "language_info": {
   "codemirror_mode": {
    "name": "ipython",
    "version": 3
   },
   "file_extension": ".py",
   "mimetype": "text/x-python",
   "name": "python",
   "nbconvert_exporter": "python",
   "pygments_lexer": "ipython3",
   "version": "3.7.7-candidate"
  },
  "orig_nbformat": 2,
  "kernelspec": {
   "name": "python37764bitenvvenv8461f1f656ae4392b11f64dbdec76110",
   "display_name": "Python 3.7.7 64-bit ('env': venv)"
  }
 },
 "nbformat": 4,
 "nbformat_minor": 2
}