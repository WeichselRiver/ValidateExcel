{
 "cells": [
  {
   "cell_type": "code",
   "execution_count": 26,
   "metadata": {},
   "outputs": [],
   "source": [
    "import pandas as pd\n",
    "from pydantic import BaseModel, ValidationError, PositiveFloat, PositiveInt, constr\n"
   ]
  },
  {
   "cell_type": "markdown",
   "metadata": {},
   "source": [
    "# Make validation class"
   ]
  },
  {
   "cell_type": "code",
   "execution_count": 44,
   "metadata": {},
   "outputs": [],
   "source": [
    "class Marke(BaseModel):\n",
    "    MichNr : PositiveInt\n",
    "    Satz : str\n",
    "    Jahrgang : PositiveInt\n",
    "    Gebiet : constr(min_length=1)\n",
    "    Entwertung : constr(regex='^(postfrisch|falz|gestempelt)$')\n",
    "    Anzahl : PositiveInt\n",
    "    Preis : PositiveFloat \n"
   ]
  },
  {
   "cell_type": "code",
   "execution_count": 47,
   "metadata": {},
   "outputs": [
    {
     "output_type": "execute_result",
     "data": {
      "text/plain": "   MichNr                Satz  Jahrgang  Gebiet Entwertung  Anzahl  Preis\n0       1  Schwarzer Aufdruck      1948  Berlin       falz     3.5   4.00\n1       1  Schwarzer Aufdruck      1948     NaN      falz3     3.0   4.33\n2       1  Schwarzer Aufdruck      1948  Berlin       falz     3.0   4.33",
      "text/html": "<div>\n<style scoped>\n    .dataframe tbody tr th:only-of-type {\n        vertical-align: middle;\n    }\n\n    .dataframe tbody tr th {\n        vertical-align: top;\n    }\n\n    .dataframe thead th {\n        text-align: right;\n    }\n</style>\n<table border=\"1\" class=\"dataframe\">\n  <thead>\n    <tr style=\"text-align: right;\">\n      <th></th>\n      <th>MichNr</th>\n      <th>Satz</th>\n      <th>Jahrgang</th>\n      <th>Gebiet</th>\n      <th>Entwertung</th>\n      <th>Anzahl</th>\n      <th>Preis</th>\n    </tr>\n  </thead>\n  <tbody>\n    <tr>\n      <th>0</th>\n      <td>1</td>\n      <td>Schwarzer Aufdruck</td>\n      <td>1948</td>\n      <td>Berlin</td>\n      <td>falz</td>\n      <td>3.5</td>\n      <td>4.00</td>\n    </tr>\n    <tr>\n      <th>1</th>\n      <td>1</td>\n      <td>Schwarzer Aufdruck</td>\n      <td>1948</td>\n      <td>NaN</td>\n      <td>falz3</td>\n      <td>3.0</td>\n      <td>4.33</td>\n    </tr>\n    <tr>\n      <th>2</th>\n      <td>1</td>\n      <td>Schwarzer Aufdruck</td>\n      <td>1948</td>\n      <td>Berlin</td>\n      <td>falz</td>\n      <td>3.0</td>\n      <td>4.33</td>\n    </tr>\n  </tbody>\n</table>\n</div>"
     },
     "metadata": {},
     "execution_count": 47
    }
   ],
   "source": [
    "dta = pd.read_excel(r'D:\\Programming\\html\\Bilder\\test.xlsx')\n",
    "dta"
   ]
  },
  {
   "cell_type": "code",
   "execution_count": 48,
   "metadata": {},
   "outputs": [
    {
     "output_type": "stream",
     "name": "stdout",
     "text": "Checked Marke : MichNr=1 Satz='Schwarzer Aufdruck' Jahrgang=1948 Gebiet='Berlin' Entwertung='falz' Anzahl=3 Preis=4.0 \nChecked Marke : MichNr=1 Satz='Schwarzer Aufdruck' Jahrgang=1948 Gebiet='Berlin' Entwertung='falz' Anzahl=3 Preis=4.33 \n[ValidationError(model='Marke', errors=[{'loc': ('Entwertung',), 'msg': 'string does not match regex \"^(postfrisch|falz|gestempelt)$\"', 'type': 'value_error.str.regex', 'ctx': {'pattern': '^(postfrisch|falz|gestempelt)$'}}])]\n"
    }
   ],
   "source": [
    "error_list = []\n",
    "for i in list(range(dta.shape[0])):\n",
    "    try:\n",
    "        m = Marke(MichNr=dta['MichNr'][i], Satz = dta['Satz'][i], Jahrgang = dta['Jahrgang'][i], Gebiet=dta['Gebiet'][i], Entwertung=dta['Entwertung'][i], Anzahl=dta['Anzahl'][i], Preis=dta['Preis'][i])\n",
    "        print(f'Checked Marke : {m} ')\n",
    "    except ValidationError as e:\n",
    "        error_list.append(e)\n",
    "print(error_list)"
   ]
  },
  {
   "cell_type": "code",
   "execution_count": null,
   "metadata": {},
   "outputs": [],
   "source": []
  }
 ],
 "metadata": {
  "language_info": {
   "codemirror_mode": {
    "name": "ipython",
    "version": 3
   },
   "file_extension": ".py",
   "mimetype": "text/x-python",
   "name": "python",
   "nbconvert_exporter": "python",
   "pygments_lexer": "ipython3",
   "version": "3.7.7-candidate"
  },
  "orig_nbformat": 2,
  "kernelspec": {
   "name": "python37764bitenvvenv8461f1f656ae4392b11f64dbdec76110",
   "display_name": "Python 3.7.7 64-bit ('env': venv)"
  }
 },
 "nbformat": 4,
 "nbformat_minor": 2
}